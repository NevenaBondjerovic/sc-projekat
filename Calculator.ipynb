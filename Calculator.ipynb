{
 "cells": [
  {
   "cell_type": "markdown",
   "metadata": {},
   "source": [
    "# Calculator"
   ]
  },
  {
   "cell_type": "code",
   "execution_count": 515,
   "metadata": {
    "collapsed": false
   },
   "outputs": [],
   "source": [
    "#import potrebnih biblioteka\n",
    "%matplotlib inline\n",
    "import cv2\n",
    "import numpy as np \n",
    "import matplotlib.pyplot as plt \n",
    "import collections\n",
    "\n",
    "\n",
    "# keras\n",
    "from keras.models import Sequential\n",
    "from keras.layers.core import Dense,Activation\n",
    "from keras.optimizers import SGD\n",
    "\n",
    "from PIL import Image\n",
    "import sys\n",
    "from sklearn.cluster import KMeans\n",
    "\n",
    "import PIL\n",
    "import math\n",
    "import matplotlib.pylab as pylab\n",
    "pylab.rcParams['figure.figsize'] = 16, 12 # za prikaz većih slika i plotova, zakomentarisati ako nije potrebno"
   ]
  },
  {
   "cell_type": "code",
   "execution_count": 61,
   "metadata": {
    "collapsed": true
   },
   "outputs": [],
   "source": [
    "def load_image(path):\n",
    "    return cv2.cvtColor(cv2.imread(path), cv2.COLOR_BGR2RGB)\n",
    "def image_gray(image):\n",
    "    return cv2.cvtColor(image, cv2.COLOR_RGB2GRAY)\n",
    "def image_bin(image_gs):\n",
    "    height, width = image_gs.shape[0:2]\n",
    "    image_binary = np.ndarray((height, width), dtype=np.uint8)\n",
    "    ret,image_bin = cv2.threshold(image_gs, 127, 255, cv2.THRESH_BINARY)\n",
    "    return image_bin\n",
    "def invert(image):\n",
    "    return 255-image\n",
    "def display_image(image, color= False):\n",
    "    if color:\n",
    "        plt.imshow(image)\n",
    "    else:\n",
    "        plt.imshow(image, 'gray')\n",
    "def dilate(image):\n",
    "    kernel = np.ones((3,3)) # strukturni element 3x3 blok\n",
    "    return cv2.dilate(image, kernel, iterations=1)\n",
    "def erode(image):\n",
    "    kernel = np.ones((3,3)) # strukturni element 3x3 blok\n",
    "    return cv2.erode(image, kernel, iterations=1)"
   ]
  },
  {
   "cell_type": "code",
   "execution_count": 62,
   "metadata": {
    "collapsed": false
   },
   "outputs": [],
   "source": [
    "\n",
    "def resize_region(region):\n",
    "    '''Transformisati selektovani region na sliku dimenzija 28x28'''\n",
    "    return cv2.resize(region,(28,28), interpolation = cv2.INTER_NEAREST)"
   ]
  },
  {
   "cell_type": "code",
   "execution_count": 485,
   "metadata": {
    "collapsed": false
   },
   "outputs": [],
   "source": [
    "def select_roi(image_orig, image_bin):\n",
    "    '''Oznaciti regione od interesa na originalnoj slici. (ROI = regions of interest)\n",
    "        Za svaki region napraviti posebnu sliku dimenzija 28 x 28. \n",
    "        Za označavanje regiona koristiti metodu cv2.boundingRect(contour).\n",
    "        Kao povratnu vrednost vratiti originalnu sliku na kojoj su obeleženi regioni\n",
    "        i niz slika koje predstavljaju regione sortirane po rastućoj vrednosti x ose\n",
    "    '''\n",
    "    img, contours, hierarchy = cv2.findContours(image_bin.copy(), cv2.RETR_LIST, cv2.CHAIN_APPROX_SIMPLE)\n",
    "    sorted_regions = [] # lista sortiranih regiona po x osi (sa leva na desno)\n",
    "    regions_dic = {}\n",
    "    for contour in contours:        \n",
    "        center, size, angle = cv2.minAreaRect(contour)\n",
    "        x,y,w,h = cv2.boundingRect(contour) #koordinate i velicina granicnog pravougaonika\n",
    "        #  if (h < 10 and w > 10) or (w < 20 and h > 30) or (h > 20 and w > 20) or (h > 15  and h < 25)\n",
    "        area = cv2.contourArea(contour)\n",
    "        if area > 100 and h < 100:\n",
    "             if (h < 10 and w > 10) or (w < 20 and h > 30) or (h > 20 and w > 20) or (h > 15  and h < 25):\n",
    "                # kopirati [y:y+h+1, x:x+w+1] sa binarne slike i smestiti u novu sliku\n",
    "                # označiti region pravougaonikom na originalnoj slici (image_orig) sa rectangle funkcijom\n",
    "                region = image_bin[y:y+h+1,x:x+w+1];\n",
    "                regions_dic[x] = resize_region(region) \n",
    "                cv2.rectangle(image_orig,(x,y),(x+w,y+h),(0,255,0),1)\n",
    "            \n",
    "    \n",
    "    sorted_regions_dic = collections.OrderedDict(sorted(regions_dic.items()))\n",
    "    sorted_regions = sorted_regions_dic.values()\n",
    "    # sortirati sve regione po x osi (sa leva na desno) i smestiti u promenljivu sorted_regions\n",
    "    return image_orig, sorted_regions"
   ]
  },
  {
   "cell_type": "code",
   "execution_count": 457,
   "metadata": {
    "collapsed": false
   },
   "outputs": [],
   "source": [
    "def scale_to_range(image): # skalira elemente slike na opseg od 0 do 1\n",
    "    ''' Elementi matrice image su vrednosti 0 ili 255. \n",
    "        Potrebno je skalirati sve elemente matrica na opseg od 0 do 1\n",
    "    '''\n",
    "    return image/255\n"
   ]
  },
  {
   "cell_type": "code",
   "execution_count": 65,
   "metadata": {
    "collapsed": true
   },
   "outputs": [],
   "source": [
    "def matrix_to_vector(image):\n",
    "    '''Sliku koja je zapravo matrica 28x28 transformisati u vektor sa 784 elementa'''\n",
    "    return image.flatten()\n"
   ]
  },
  {
   "cell_type": "code",
   "execution_count": 66,
   "metadata": {
    "collapsed": true
   },
   "outputs": [],
   "source": [
    "def prepare_for_ann(regions):\n",
    "    '''Regioni su matrice dimenzija 28x28 čiji su elementi vrednosti 0 ili 255.\n",
    "        Potrebno je skalirati elemente regiona na [0,1] i transformisati ga u vektor od 784 elementa '''\n",
    "    ready_for_ann = []\n",
    "    for region in regions:\n",
    "        # skalirati elemente regiona (metoda iz TODO 3 scale_to_range)\n",
    "        # region sa skaliranim elementima pretvoriti u vektor (metoda iz TODO 4 matrix_to_vector)\n",
    "        # vektor dodati u listu spremnih regiona\n",
    "        scale = scale_to_range(region)\n",
    "        ready_for_ann.append(matrix_to_vector(scale))\n",
    "        \n",
    "    return ready_for_ann"
   ]
  },
  {
   "cell_type": "code",
   "execution_count": 67,
   "metadata": {
    "collapsed": true
   },
   "outputs": [],
   "source": [
    "def convert_output(alphabet):\n",
    "    '''Konvertovati alfabet u niz pogodan za obučavanje NM,\n",
    "        odnosno niz čiji su svi elementi 0 osim elementa čiji je\n",
    "        indeks jednak indeksu elementa iz alfabeta za koji formiramo niz.\n",
    "        Primer prvi element iz alfabeta [1,0,0,0,0,0,0,0,0,0],\n",
    "        za drugi [0,1,0,0,0,0,0,0,0,0] itd..\n",
    "    '''\n",
    "    nn_outputs = []\n",
    "    for index in range(len(alphabet)):\n",
    "        output = np.zeros(len(alphabet))\n",
    "        output[index] = 1\n",
    "        nn_outputs.append(output)\n",
    "    return np.array(nn_outputs)\n"
   ]
  },
  {
   "cell_type": "code",
   "execution_count": 402,
   "metadata": {
    "collapsed": true
   },
   "outputs": [],
   "source": [
    "def create_ann():\n",
    "    '''Implementacija veštačke neuronske mreže sa 784 neurona na uloznom sloju,\n",
    "        128 neurona u skrivenom sloju i 10 neurona na izlazu. Aktivaciona funkcija je sigmoid.\n",
    "    '''\n",
    "    ann = Sequential()\n",
    "    ann.add(Dense(128, input_dim=784, activation='sigmoid'))\n",
    "    ann.add(Dense(18, activation='sigmoid'))\n",
    "    return ann\n",
    "    \n",
    "def train_ann(ann, X_train, y_train):\n",
    "    '''Obucavanje vestacke neuronske mreze'''\n",
    "    X_train = np.array(X_train, np.float32) # dati ulazi\n",
    "    y_train = np.array(y_train, np.float32) # zeljeni izlazi za date ulaze\n",
    "   \n",
    "    # definisanje parametra algoritma za obucavanje\n",
    "    sgd = SGD(lr=0.01, momentum=0.9)\n",
    "    ann.compile(loss='mean_squared_error', optimizer=sgd)\n",
    "\n",
    "    # obucavanje neuronske mreze\n",
    "    ann.fit(X_train, y_train, nb_epoch=2000, batch_size=1, verbose = 0, shuffle=False, show_accuracy = False) \n",
    "      \n",
    "    return ann"
   ]
  },
  {
   "cell_type": "code",
   "execution_count": 69,
   "metadata": {
    "collapsed": true
   },
   "outputs": [],
   "source": [
    "def winner(output): # output je vektor sa izlaza neuronske mreze\n",
    "    '''pronaći i vratiti indeks neurona koji je najviše pobuđen'''\n",
    "    return max(enumerate(output), key=lambda x: x[1])[0]\n"
   ]
  },
  {
   "cell_type": "code",
   "execution_count": 70,
   "metadata": {
    "collapsed": true
   },
   "outputs": [],
   "source": [
    "def display_result(outputs, alphabet):\n",
    "    '''za svaki rezultat pronaći indeks pobedničkog\n",
    "        regiona koji ujedno predstavlja i indeks u alfabetu.\n",
    "        Dodati karakter iz alfabet u result'''\n",
    "    result = []\n",
    "    for output in outputs:\n",
    "        result.append(alphabet[winner(output)])\n",
    "    return result"
   ]
  },
  {
   "cell_type": "code",
   "execution_count": 426,
   "metadata": {
    "collapsed": false
   },
   "outputs": [],
   "source": [
    "#COLOR IMAGE\n",
    "image = cv2.imread('images/kalkulator_alfabet_zagrade.png') # ucitavanje slike sa diska\n",
    "image = cv2.cvtColor(image, cv2.COLOR_BGR2RGB) # konvertovanje iz BGR u RGB model boja (jer OpenCV ucita sliku kao BGR)\n",
    "#print image.shape # ispis velicine slike\n",
    "#display_image(image)"
   ]
  },
  {
   "cell_type": "code",
   "execution_count": 427,
   "metadata": {
    "collapsed": false
   },
   "outputs": [],
   "source": [
    "#GRAY_IMAGE\n",
    "img_gray=image_gray(image)\n",
    "#display_image(img_gray)"
   ]
  },
  {
   "cell_type": "code",
   "execution_count": 428,
   "metadata": {
    "collapsed": false
   },
   "outputs": [],
   "source": [
    "#BIN_IMAGE\n",
    "img_bin=image_bin(img_gray)\n",
    "#display_image(img_bin)"
   ]
  },
  {
   "cell_type": "code",
   "execution_count": 429,
   "metadata": {
    "collapsed": false
   },
   "outputs": [],
   "source": [
    "#INVERTED IMAGE\n",
    "img_invert=invert(img_bin)\n",
    "#display_image(img_invert)"
   ]
  },
  {
   "cell_type": "code",
   "execution_count": 430,
   "metadata": {
    "collapsed": false
   },
   "outputs": [],
   "source": [
    "img=erode(dilate(img_invert))\n",
    "#display_image(img)"
   ]
  },
  {
   "cell_type": "code",
   "execution_count": 486,
   "metadata": {
    "collapsed": false
   },
   "outputs": [
    {
     "name": "stdout",
     "output_type": "stream",
     "text": [
      "18\n"
     ]
    },
    {
     "data": {
      "image/png": "[encoded data removed]",
      "text/plain": [
       "<matplotlib.figure.Figure at 0xb708c50>"
      ]
     },
     "metadata": {},
     "output_type": "display_data"
    }
   ],
   "source": [
    "#SELECTED REGIONS\n",
    "selected_regions, numbers = select_roi(image.copy(), img_invert)\n",
    "display_image(selected_regions)\n",
    "print(len(numbers))"
   ]
  },
  {
   "cell_type": "code",
   "execution_count": 494,
   "metadata": {
    "collapsed": false
   },
   "outputs": [],
   "source": [
    "# insert alphabet here\n",
    "alphabet = [0,1,2,3,4,5,6,7,8,9,'+','-','*','/','(',')', '^', 's']\n"
   ]
  },
  {
   "cell_type": "code",
   "execution_count": 495,
   "metadata": {
    "collapsed": false
   },
   "outputs": [],
   "source": [
    "inputs = prepare_for_ann(numbers)\n",
    "outputs = convert_output(alphabet)\n",
    "ann = create_ann()"
   ]
  },
  {
   "cell_type": "code",
   "execution_count": 496,
   "metadata": {
    "collapsed": false
   },
   "outputs": [],
   "source": [
    "\n",
    "ann = train_ann(ann, inputs, outputs)"
   ]
  },
  {
   "cell_type": "code",
   "execution_count": null,
   "metadata": {
    "collapsed": true
   },
   "outputs": [],
   "source": []
  },
  {
   "cell_type": "code",
   "execution_count": 566,
   "metadata": {
    "collapsed": false,
    "scrolled": true
   },
   "outputs": [
    {
     "data": {
      "image/png": "[encoded data removed]",
      "text/plain": [
       "<matplotlib.figure.Figure at 0xdc46eb0>"
      ]
     },
     "metadata": {},
     "output_type": "display_data"
    }
   ],
   "source": [
    "test_color = load_image('images/primer25.png')\n",
    "test = invert(image_bin(image_gray(test_color)))\n",
    "test_bin = erode(dilate(test))\n",
    "selected_test, test_numbers = select_roi(test_color.copy(),test_bin)\n",
    "display_image(selected_test)\n",
    "test_inputs = prepare_for_ann(test_numbers)\n",
    "result = ann.predict(np.array(test_inputs, np.float32))"
   ]
  },
  {
   "cell_type": "code",
   "execution_count": 567,
   "metadata": {
    "collapsed": false
   },
   "outputs": [
    {
     "name": "stdout",
     "output_type": "stream",
     "text": [
      "['s', 's', 8, 1, 's', 's', 's', 's', 's', 's']\n"
     ]
    }
   ],
   "source": [
    "res = display_result(result, alphabet)\n",
    "print res"
   ]
  },
  {
   "cell_type": "code",
   "execution_count": 557,
   "metadata": {
    "collapsed": false
   },
   "outputs": [],
   "source": [
    "def totalCalculate(function):\n",
    "    calculated=0\n",
    "    if(('*' in function) or ('/' in function)):\n",
    "        return calculate(function)\n",
    "    else:\n",
    "        calculated=function[0]\n",
    "        for index,letter in enumerate(function):\n",
    "            if(letter=='+'):\n",
    "                calculated=calculated+function[index+1]\n",
    "            elif(letter=='-'):\n",
    "                calculated=calculated-function[index+1]\n",
    "    return calculated"
   ]
  },
  {
   "cell_type": "code",
   "execution_count": 558,
   "metadata": {
    "collapsed": false
   },
   "outputs": [],
   "source": [
    "def isBracket(index, function):\n",
    "    if(function[index-1]=='(' or function[index+1]=='(' or function[index-1]==')' or function[index+1]==')'\n",
    "      or function[index+1]=='s'):\n",
    "        return True\n",
    "    else:\n",
    "        return False"
   ]
  },
  {
   "cell_type": "code",
   "execution_count": 559,
   "metadata": {
    "collapsed": false
   },
   "outputs": [],
   "source": [
    "def calculate(function):\n",
    "    calculated=0\n",
    "    newFunction=[]\n",
    "    openedBracket=False\n",
    "    inBrackets=[]\n",
    "    bracketCounter=0\n",
    "    \n",
    "    for index,letter in enumerate(function):\n",
    "        if(openedBracket==False):\n",
    "            if(letter=='/'):\n",
    "                if(isBracket(index,function) == False):\n",
    "                    res=float(function[index-1])/function[index+1]\n",
    "                    newFunction.append(res)\n",
    "                else:\n",
    "                    newFunction.append(letter)\n",
    "            elif(letter=='*'):\n",
    "                if(isBracket(index,function) == False):\n",
    "                    res=float(function[index-1])*function[index+1]\n",
    "                    newFunction.append(res)\n",
    "                else:\n",
    "                    newFunction.append(letter)\n",
    "            elif(letter=='s'):\n",
    "                if(isBracket(index,function) == False):\n",
    "                    res=math.sqrt(function[index+1])\n",
    "                    newFunction.append(res)\n",
    "                else:\n",
    "                    newFunction.append(letter)\n",
    "            elif(letter=='+' or letter=='-'):\n",
    "                newFunction.append(letter)\n",
    "            elif(letter=='('):\n",
    "                openedBracket=True;\n",
    "            else:                                                                  #ako je broj\n",
    "                if(index==0):                                                      #ako je prvi element\n",
    "                    if(function[index+1]=='+' or function[index+1]=='-'):              #ako je znak posle prvog elementa + ili -\n",
    "                        newFunction.append(letter)                                 #dodaj taj broj\n",
    "                elif(index==len(function)-1):                                      #ako je zadnji element\n",
    "                    if(function[index-1]=='+' or function[index-1]=='-'):              #ako je znak pre poslednjeg elementa + ili -\n",
    "                        newFunction.append(letter)                                 #dodaj taj broj\n",
    "                else:\n",
    "                    if((function[index+1]=='+' or function[index+1]=='-')\n",
    "                       and (function[index-1]=='+' or function[index-1]=='-')):        #ako je znak pre i posle + ili -, dodaj broj\n",
    "                        newFunction.append(letter)\n",
    "                    if(function[index+2]=='(' or function[index-2]==')' or function[index+2]=='s'):\n",
    "                        newFunction.append(letter)\n",
    "                    \n",
    "        else:\n",
    "            if(letter=='('):\n",
    "                inBrackets.append(letter)\n",
    "                bracketCounter = bracketCounter + 1\n",
    "            elif(letter==')'):\n",
    "                if(bracketCounter==0):\n",
    "                    newFunction.append(calculate(inBrackets))\n",
    "                    inBrackets=[]\n",
    "                    openedBracket=False\n",
    "                else:\n",
    "                    inBrackets.append(letter)\n",
    "                    bracketCounter = bracketCounter - 1\n",
    "            else:\n",
    "                inBrackets.append(letter)\n",
    "           \n",
    "    return totalCalculate(newFunction) \n",
    "    "
   ]
  },
  {
   "cell_type": "code",
   "execution_count": 560,
   "metadata": {
    "collapsed": false
   },
   "outputs": [],
   "source": [
    "def checkLetters(function):\n",
    "    newFunction=[]\n",
    "    counter=1\n",
    "    for index,letter in enumerate(function):\n",
    "        if counter == 1:\n",
    "            if checkNumber(letter):\n",
    "                isNumber=True\n",
    "                numbers=[]\n",
    "                numbers.append(letter)\n",
    "                while(isNumber):\n",
    "                    if(((index+counter) < len(function)) and checkNumber(function[index+counter])):\n",
    "                        numbers.append(function[index+counter])\n",
    "                        counter = counter + 1\n",
    "                    else:\n",
    "                        isNumber=False\n",
    "                        \n",
    "                tempCounter=counter\n",
    "                tempNumber=0\n",
    "                while(tempCounter!=0):\n",
    "                    tempNumber  = tempNumber + function[index+counter-tempCounter] * 10**(tempCounter-1)\n",
    "                    tempCounter = tempCounter-1\n",
    "                newFunction.append(tempNumber)\n",
    "            else:\n",
    "                newFunction.append(letter)\n",
    "        else:\n",
    "            counter = counter-1\n",
    "    return newFunction"
   ]
  },
  {
   "cell_type": "code",
   "execution_count": 561,
   "metadata": {
    "collapsed": true
   },
   "outputs": [],
   "source": [
    "def checkNumber(letter):\n",
    "    if(letter!=\"+\" and letter!=\"-\" and letter!=\"/\" and letter!=\"*\" and letter!=\"(\" and letter!=\")\"\n",
    "       and letter!=\"s\" and letter!=\"^\"):\n",
    "        return True\n",
    "    else:\n",
    "        return False"
   ]
  },
  {
   "cell_type": "code",
   "execution_count": 562,
   "metadata": {
    "collapsed": false
   },
   "outputs": [
    {
     "name": "stdout",
     "output_type": "stream",
     "text": [
      "2.0\n"
     ]
    }
   ],
   "source": [
    "res = checkLetters(res)\n",
    "returnValue=calculate(res)\n",
    "print returnValue"
   ]
  },
  {
   "cell_type": "code",
   "execution_count": null,
   "metadata": {
    "collapsed": true
   },
   "outputs": [],
   "source": []
  },
  {
   "cell_type": "code",
   "execution_count": null,
   "metadata": {
    "collapsed": true
   },
   "outputs": [],
   "source": []
  }
 ],
 "metadata": {
  "anaconda-cloud": {},
  "kernelspec": {
   "display_name": "Python [default]",
   "language": "python",
   "name": "python2"
  },
  "language_info": {
   "codemirror_mode": {
    "name": "ipython",
    "version": 2
   },
   "file_extension": ".py",
   "mimetype": "text/x-python",
   "name": "python",
   "nbconvert_exporter": "python",
   "pygments_lexer": "ipython2",
   "version": "2.7.12"
  }
 },
 "nbformat": 4,
 "nbformat_minor": 0
}
